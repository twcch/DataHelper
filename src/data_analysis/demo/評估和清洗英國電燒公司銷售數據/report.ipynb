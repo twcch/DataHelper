{
 "cells": [
  {
   "metadata": {},
   "cell_type": "markdown",
   "source": "# 項目：評估和清洗英國電燒公司銷售數據",
   "id": "76fc6000a22ee17f"
  },
  {
   "metadata": {},
   "cell_type": "markdown",
   "source": "## 分析目標",
   "id": "876d0afc1e5c7093"
  },
  {
   "metadata": {},
   "cell_type": "markdown",
   "source": [
    "此數據分析的目的是，根據市場銷售數據，挖掘暢銷產品，以便制定更有效的市場策略來提升營收。  \n",
    "\n",
    "\n",
    "本項目的在於展現評估數據乾淨與整潔度，並且基於評估結果，對數據進行清洗，從而得到可供下一步分析的數據。"
   ],
   "id": "9273faeed20f2a6"
  },
  {
   "metadata": {},
   "cell_type": "markdown",
   "source": "## 簡介",
   "id": "df8fbd13aa02d413"
  },
  {
   "metadata": {},
   "cell_type": "markdown",
   "source": "原始資料集記錄了一家英國線上零售公司在 2010 年 12 月 1 日至 2011 年 12 月 9 日期間的所有交易情況，涵蓋了該公司在全球不同國家和地區的業務資料。該公司主要銷售涵蓋各個場景的禮品，包括但不限於生日禮品、婚禮紀念品、聖誕禮品等等。該公司的客戶群主要包括批發商和個人消費者，其中批發商佔了相當大的比例。",
   "id": "57124a5b530e0d9c"
  },
  {
   "metadata": {},
   "cell_type": "markdown",
   "source": [
    "資料欄位的含義如下：\n",
    "- `InvoiceNo`：發票號碼。6 位數，作為交易的唯一識別碼。如果這個代碼以字母\"c\"開頭，表示這筆交易被取消。\n",
    "- `StockCode`：產品代碼。5 位數，作為產品的唯一識別碼。\n",
    "- `Description`：產品名稱。\n",
    "- `Quantity`：產品在交易中的數量。\n",
    "- `InvoiceDate`：發票日期和時間。交易發生的日期和時間。\n",
    "- `UnitPrice`：單價。價格單位為英鎊（£）。\n",
    "- `CustomerID`：客戶編號。5 位數，作為客戶的唯一識別碼。\n",
    "- `Country`：國家名稱。客戶所居住的國家的名稱。"
   ],
   "id": "db07f01f998f1740"
  },
  {
   "metadata": {},
   "cell_type": "markdown",
   "source": "## 讀取數據",
   "id": "ed05ab24d8923818"
  },
  {
   "metadata": {},
   "cell_type": "markdown",
   "source": "導入數據分析所需的函式庫，從 postgres 資料庫中，取出所需的資料內容，並解析為 DataFrame，並賦值給變數`original_data`。",
   "id": "6a4585da1da9aa48"
  },
  {
   "metadata": {
    "ExecuteTime": {
     "end_time": "2024-07-28T08:49:36.515648Z",
     "start_time": "2024-07-28T08:49:36.498631Z"
    }
   },
   "cell_type": "code",
   "source": [
    "import pandas as pd\n",
    "from src.util.postgres.dataframe_and_postgres import DataframeAndPostgres"
   ],
   "id": "bc8ae631dc75cf81",
   "outputs": [],
   "execution_count": 34
  },
  {
   "metadata": {
    "ExecuteTime": {
     "end_time": "2024-07-28T08:49:40.116794Z",
     "start_time": "2024-07-28T08:49:36.605146Z"
    }
   },
   "cell_type": "code",
   "source": [
    "dataframe_and_postgres = DataframeAndPostgres()\n",
    "original_data = dataframe_and_postgres.dataframe_from_postgres(\"e_commerce\")\n",
    "original_data.head()"
   ],
   "id": "200eea7e97ceee4e",
   "outputs": [
    {
     "data": {
      "text/plain": [
       "  InvoiceNo StockCode                          Description  Quantity  \\\n",
       "0    536365    85123A   WHITE HANGING HEART T-LIGHT HOLDER         6   \n",
       "1    536365     71053                  WHITE METAL LANTERN         6   \n",
       "2    536365    84406B       CREAM CUPID HEARTS COAT HANGER         8   \n",
       "3    536365    84029G  KNITTED UNION FLAG HOT WATER BOTTLE         6   \n",
       "4    536365    84029E       RED WOOLLY HOTTIE WHITE HEART.         6   \n",
       "\n",
       "      InvoiceDate  UnitPrice  CustomerID         Country  \n",
       "0  12/1/2010 8:26       2.55     17850.0  United Kingdom  \n",
       "1  12/1/2010 8:26       3.39     17850.0  United Kingdom  \n",
       "2  12/1/2010 8:26       2.75     17850.0  United Kingdom  \n",
       "3  12/1/2010 8:26       3.39     17850.0  United Kingdom  \n",
       "4  12/1/2010 8:26       3.39     17850.0  United Kingdom  "
      ],
      "text/html": [
       "<div>\n",
       "<style scoped>\n",
       "    .dataframe tbody tr th:only-of-type {\n",
       "        vertical-align: middle;\n",
       "    }\n",
       "\n",
       "    .dataframe tbody tr th {\n",
       "        vertical-align: top;\n",
       "    }\n",
       "\n",
       "    .dataframe thead th {\n",
       "        text-align: right;\n",
       "    }\n",
       "</style>\n",
       "<table border=\"1\" class=\"dataframe\">\n",
       "  <thead>\n",
       "    <tr style=\"text-align: right;\">\n",
       "      <th></th>\n",
       "      <th>InvoiceNo</th>\n",
       "      <th>StockCode</th>\n",
       "      <th>Description</th>\n",
       "      <th>Quantity</th>\n",
       "      <th>InvoiceDate</th>\n",
       "      <th>UnitPrice</th>\n",
       "      <th>CustomerID</th>\n",
       "      <th>Country</th>\n",
       "    </tr>\n",
       "  </thead>\n",
       "  <tbody>\n",
       "    <tr>\n",
       "      <th>0</th>\n",
       "      <td>536365</td>\n",
       "      <td>85123A</td>\n",
       "      <td>WHITE HANGING HEART T-LIGHT HOLDER</td>\n",
       "      <td>6</td>\n",
       "      <td>12/1/2010 8:26</td>\n",
       "      <td>2.55</td>\n",
       "      <td>17850.0</td>\n",
       "      <td>United Kingdom</td>\n",
       "    </tr>\n",
       "    <tr>\n",
       "      <th>1</th>\n",
       "      <td>536365</td>\n",
       "      <td>71053</td>\n",
       "      <td>WHITE METAL LANTERN</td>\n",
       "      <td>6</td>\n",
       "      <td>12/1/2010 8:26</td>\n",
       "      <td>3.39</td>\n",
       "      <td>17850.0</td>\n",
       "      <td>United Kingdom</td>\n",
       "    </tr>\n",
       "    <tr>\n",
       "      <th>2</th>\n",
       "      <td>536365</td>\n",
       "      <td>84406B</td>\n",
       "      <td>CREAM CUPID HEARTS COAT HANGER</td>\n",
       "      <td>8</td>\n",
       "      <td>12/1/2010 8:26</td>\n",
       "      <td>2.75</td>\n",
       "      <td>17850.0</td>\n",
       "      <td>United Kingdom</td>\n",
       "    </tr>\n",
       "    <tr>\n",
       "      <th>3</th>\n",
       "      <td>536365</td>\n",
       "      <td>84029G</td>\n",
       "      <td>KNITTED UNION FLAG HOT WATER BOTTLE</td>\n",
       "      <td>6</td>\n",
       "      <td>12/1/2010 8:26</td>\n",
       "      <td>3.39</td>\n",
       "      <td>17850.0</td>\n",
       "      <td>United Kingdom</td>\n",
       "    </tr>\n",
       "    <tr>\n",
       "      <th>4</th>\n",
       "      <td>536365</td>\n",
       "      <td>84029E</td>\n",
       "      <td>RED WOOLLY HOTTIE WHITE HEART.</td>\n",
       "      <td>6</td>\n",
       "      <td>12/1/2010 8:26</td>\n",
       "      <td>3.39</td>\n",
       "      <td>17850.0</td>\n",
       "      <td>United Kingdom</td>\n",
       "    </tr>\n",
       "  </tbody>\n",
       "</table>\n",
       "</div>"
      ]
     },
     "execution_count": 35,
     "metadata": {},
     "output_type": "execute_result"
    }
   ],
   "execution_count": 35
  },
  {
   "metadata": {},
   "cell_type": "markdown",
   "source": "## 評估數據",
   "id": "db83c676fc4f95b8"
  },
  {
   "metadata": {},
   "cell_type": "markdown",
   "source": [
    "在這一部分，我將對上一部分建立的`original_data`這個 DataFrame 所包含的資料進行評估。\n",
    "\n",
    "評估主要從兩個方面進行，結構和內容，即整齊度和乾淨度：\n",
    "1. 結構：資料的結構性問題指不符合\"每列是一個變量，每行是一個觀察值，每個單元格是一個值\"這三個標準。\n",
    "2. 內容：數據的內容性問題包括存在丟失數據、重複數據、無效數據等。"
   ],
   "id": "d10a1963d523e42"
  },
  {
   "metadata": {},
   "cell_type": "markdown",
   "source": "### 評估數據的整齊度",
   "id": "ce3782b3b03978ea"
  },
  {
   "metadata": {
    "ExecuteTime": {
     "end_time": "2024-07-28T08:49:40.131691Z",
     "start_time": "2024-07-28T08:49:40.117626Z"
    }
   },
   "cell_type": "code",
   "source": "original_data.sample(10)",
   "id": "e55830f3981b48ab",
   "outputs": [
    {
     "data": {
      "text/plain": [
       "       InvoiceNo StockCode                      Description  Quantity  \\\n",
       "230476    557150     21843         RED RETROSPOT CAKE STAND         2   \n",
       "235143    557626     21498              RED RETROSPOT WRAP         25   \n",
       "344033    566979     22086  PAPER CHAIN KIT 50'S CHRISTMAS         12   \n",
       "297650    562955     23235         STORAGE TIN VINTAGE LEAF         1   \n",
       "15196     537638     21725               SWEETIES  STICKERS         2   \n",
       "525249    580612     22424           ENAMEL BREAD BIN CREAM         1   \n",
       "470214    576617     23007           SPACEBOY BABY GIFT SET         1   \n",
       "168470    551056     20766           GARDEN PATH SKETCHBOOK         1   \n",
       "179502    552278     82582        AREA PATROLLED METAL SIGN         2   \n",
       "529627    580737     22951  60 CAKE CASES DOLLY GIRL DESIGN        24   \n",
       "\n",
       "             InvoiceDate  UnitPrice  CustomerID         Country  \n",
       "230476   6/17/2011 11:02      10.95     15555.0  United Kingdom  \n",
       "235143   6/21/2011 14:29       0.42     14175.0  United Kingdom  \n",
       "344033    9/16/2011 9:54       2.95     13141.0  United Kingdom  \n",
       "297650   8/11/2011 10:14       5.79         NaN  United Kingdom  \n",
       "15196    12/7/2010 15:28       1.66         NaN  United Kingdom  \n",
       "525249   12/5/2011 11:58      24.96         NaN  United Kingdom  \n",
       "470214  11/15/2011 16:57      10.79         NaN  United Kingdom  \n",
       "168470   4/26/2011 11:51       3.75     16442.0  United Kingdom  \n",
       "179502    5/8/2011 12:36       2.10     15059.0  United Kingdom  \n",
       "529627    12/6/2011 9:05       0.55     14140.0  United Kingdom  "
      ],
      "text/html": [
       "<div>\n",
       "<style scoped>\n",
       "    .dataframe tbody tr th:only-of-type {\n",
       "        vertical-align: middle;\n",
       "    }\n",
       "\n",
       "    .dataframe tbody tr th {\n",
       "        vertical-align: top;\n",
       "    }\n",
       "\n",
       "    .dataframe thead th {\n",
       "        text-align: right;\n",
       "    }\n",
       "</style>\n",
       "<table border=\"1\" class=\"dataframe\">\n",
       "  <thead>\n",
       "    <tr style=\"text-align: right;\">\n",
       "      <th></th>\n",
       "      <th>InvoiceNo</th>\n",
       "      <th>StockCode</th>\n",
       "      <th>Description</th>\n",
       "      <th>Quantity</th>\n",
       "      <th>InvoiceDate</th>\n",
       "      <th>UnitPrice</th>\n",
       "      <th>CustomerID</th>\n",
       "      <th>Country</th>\n",
       "    </tr>\n",
       "  </thead>\n",
       "  <tbody>\n",
       "    <tr>\n",
       "      <th>230476</th>\n",
       "      <td>557150</td>\n",
       "      <td>21843</td>\n",
       "      <td>RED RETROSPOT CAKE STAND</td>\n",
       "      <td>2</td>\n",
       "      <td>6/17/2011 11:02</td>\n",
       "      <td>10.95</td>\n",
       "      <td>15555.0</td>\n",
       "      <td>United Kingdom</td>\n",
       "    </tr>\n",
       "    <tr>\n",
       "      <th>235143</th>\n",
       "      <td>557626</td>\n",
       "      <td>21498</td>\n",
       "      <td>RED RETROSPOT WRAP</td>\n",
       "      <td>25</td>\n",
       "      <td>6/21/2011 14:29</td>\n",
       "      <td>0.42</td>\n",
       "      <td>14175.0</td>\n",
       "      <td>United Kingdom</td>\n",
       "    </tr>\n",
       "    <tr>\n",
       "      <th>344033</th>\n",
       "      <td>566979</td>\n",
       "      <td>22086</td>\n",
       "      <td>PAPER CHAIN KIT 50'S CHRISTMAS</td>\n",
       "      <td>12</td>\n",
       "      <td>9/16/2011 9:54</td>\n",
       "      <td>2.95</td>\n",
       "      <td>13141.0</td>\n",
       "      <td>United Kingdom</td>\n",
       "    </tr>\n",
       "    <tr>\n",
       "      <th>297650</th>\n",
       "      <td>562955</td>\n",
       "      <td>23235</td>\n",
       "      <td>STORAGE TIN VINTAGE LEAF</td>\n",
       "      <td>1</td>\n",
       "      <td>8/11/2011 10:14</td>\n",
       "      <td>5.79</td>\n",
       "      <td>NaN</td>\n",
       "      <td>United Kingdom</td>\n",
       "    </tr>\n",
       "    <tr>\n",
       "      <th>15196</th>\n",
       "      <td>537638</td>\n",
       "      <td>21725</td>\n",
       "      <td>SWEETIES  STICKERS</td>\n",
       "      <td>2</td>\n",
       "      <td>12/7/2010 15:28</td>\n",
       "      <td>1.66</td>\n",
       "      <td>NaN</td>\n",
       "      <td>United Kingdom</td>\n",
       "    </tr>\n",
       "    <tr>\n",
       "      <th>525249</th>\n",
       "      <td>580612</td>\n",
       "      <td>22424</td>\n",
       "      <td>ENAMEL BREAD BIN CREAM</td>\n",
       "      <td>1</td>\n",
       "      <td>12/5/2011 11:58</td>\n",
       "      <td>24.96</td>\n",
       "      <td>NaN</td>\n",
       "      <td>United Kingdom</td>\n",
       "    </tr>\n",
       "    <tr>\n",
       "      <th>470214</th>\n",
       "      <td>576617</td>\n",
       "      <td>23007</td>\n",
       "      <td>SPACEBOY BABY GIFT SET</td>\n",
       "      <td>1</td>\n",
       "      <td>11/15/2011 16:57</td>\n",
       "      <td>10.79</td>\n",
       "      <td>NaN</td>\n",
       "      <td>United Kingdom</td>\n",
       "    </tr>\n",
       "    <tr>\n",
       "      <th>168470</th>\n",
       "      <td>551056</td>\n",
       "      <td>20766</td>\n",
       "      <td>GARDEN PATH SKETCHBOOK</td>\n",
       "      <td>1</td>\n",
       "      <td>4/26/2011 11:51</td>\n",
       "      <td>3.75</td>\n",
       "      <td>16442.0</td>\n",
       "      <td>United Kingdom</td>\n",
       "    </tr>\n",
       "    <tr>\n",
       "      <th>179502</th>\n",
       "      <td>552278</td>\n",
       "      <td>82582</td>\n",
       "      <td>AREA PATROLLED METAL SIGN</td>\n",
       "      <td>2</td>\n",
       "      <td>5/8/2011 12:36</td>\n",
       "      <td>2.10</td>\n",
       "      <td>15059.0</td>\n",
       "      <td>United Kingdom</td>\n",
       "    </tr>\n",
       "    <tr>\n",
       "      <th>529627</th>\n",
       "      <td>580737</td>\n",
       "      <td>22951</td>\n",
       "      <td>60 CAKE CASES DOLLY GIRL DESIGN</td>\n",
       "      <td>24</td>\n",
       "      <td>12/6/2011 9:05</td>\n",
       "      <td>0.55</td>\n",
       "      <td>14140.0</td>\n",
       "      <td>United Kingdom</td>\n",
       "    </tr>\n",
       "  </tbody>\n",
       "</table>\n",
       "</div>"
      ]
     },
     "execution_count": 36,
     "metadata": {},
     "output_type": "execute_result"
    }
   ],
   "execution_count": 36
  },
  {
   "metadata": {},
   "cell_type": "markdown",
   "source": "從抽樣的 10 行資料資料來看，資料符合\"每列是一個變量，每行是一個觀察值，每個儲存格都是一個值\"，具體來看 row 是關於某商品的一次交易，column 是交易相關的各個變量，因此不存在結構性問題。",
   "id": "39175e82189cd0ee"
  },
  {
   "metadata": {},
   "cell_type": "markdown",
   "source": "### 評估數據的乾淨度",
   "id": "e07cf7c5186234dc"
  },
  {
   "metadata": {
    "ExecuteTime": {
     "end_time": "2024-07-28T08:49:40.237774Z",
     "start_time": "2024-07-28T08:49:40.132285Z"
    }
   },
   "cell_type": "code",
   "source": "original_data.info()",
   "id": "e1438aadea739ed0",
   "outputs": [
    {
     "name": "stdout",
     "output_type": "stream",
     "text": [
      "<class 'pandas.core.frame.DataFrame'>\n",
      "RangeIndex: 541909 entries, 0 to 541908\n",
      "Data columns (total 8 columns):\n",
      " #   Column       Non-Null Count   Dtype  \n",
      "---  ------       --------------   -----  \n",
      " 0   InvoiceNo    541909 non-null  object \n",
      " 1   StockCode    541909 non-null  object \n",
      " 2   Description  540455 non-null  object \n",
      " 3   Quantity     541909 non-null  int64  \n",
      " 4   InvoiceDate  541909 non-null  object \n",
      " 5   UnitPrice    541909 non-null  float64\n",
      " 6   CustomerID   406829 non-null  float64\n",
      " 7   Country      541909 non-null  object \n",
      "dtypes: float64(2), int64(1), object(5)\n",
      "memory usage: 33.1+ MB\n"
     ]
    }
   ],
   "execution_count": 37
  },
  {
   "metadata": {},
   "cell_type": "markdown",
   "source": [
    "從輸出結果來看，資料共有 541909 個觀察值，而`Description`、`CustomerID`變數存在缺失值。\n",
    "\n",
    "此外，`InvoiceDate`的資料型別應為日期，`CustomerID`的資料型別應為字串，應進行資料格式轉換。"
   ],
   "id": "5ac2cada10849256"
  },
  {
   "metadata": {},
   "cell_type": "markdown",
   "source": "#### 評估缺失值",
   "id": "7f222cfa3c09f053"
  },
  {
   "metadata": {},
   "cell_type": "markdown",
   "source": "在暸解`Description`存在缺失值後，根據條件提取出缺失觀察值。",
   "id": "a06bcb297a911bc"
  },
  {
   "metadata": {
    "ExecuteTime": {
     "end_time": "2024-07-28T08:49:40.284725Z",
     "start_time": "2024-07-28T08:49:40.246600Z"
    }
   },
   "cell_type": "code",
   "source": "original_data[original_data[\"Description\"].isnull()]",
   "id": "a0661b44ee7c3a9c",
   "outputs": [
    {
     "data": {
      "text/plain": [
       "       InvoiceNo StockCode Description  Quantity      InvoiceDate  UnitPrice  \\\n",
       "190       537466     21488        None       -50  12/7/2010 10:33        0.0   \n",
       "623       536414     22139        None        56  12/1/2010 11:52        0.0   \n",
       "1396      537873     37461        None         1  12/8/2010 18:07        0.0   \n",
       "1734      537874    85170A        None         1  12/8/2010 18:07        0.0   \n",
       "1974      536545     21134        None         1  12/1/2010 14:32        0.0   \n",
       "...          ...       ...         ...       ...              ...        ...   \n",
       "535322    581199     84581        None        -2  12/7/2011 18:26        0.0   \n",
       "535326    581203     23406        None        15  12/7/2011 18:31        0.0   \n",
       "535332    581209     21620        None         6  12/7/2011 18:35        0.0   \n",
       "536981    581234     72817        None        27  12/8/2011 10:33        0.0   \n",
       "538555    581408     85175        None        20  12/8/2011 14:06        0.0   \n",
       "\n",
       "        CustomerID         Country  \n",
       "190            NaN  United Kingdom  \n",
       "623            NaN  United Kingdom  \n",
       "1396           NaN  United Kingdom  \n",
       "1734           NaN  United Kingdom  \n",
       "1974           NaN  United Kingdom  \n",
       "...            ...             ...  \n",
       "535322         NaN  United Kingdom  \n",
       "535326         NaN  United Kingdom  \n",
       "535332         NaN  United Kingdom  \n",
       "536981         NaN  United Kingdom  \n",
       "538555         NaN  United Kingdom  \n",
       "\n",
       "[1454 rows x 8 columns]"
      ],
      "text/html": [
       "<div>\n",
       "<style scoped>\n",
       "    .dataframe tbody tr th:only-of-type {\n",
       "        vertical-align: middle;\n",
       "    }\n",
       "\n",
       "    .dataframe tbody tr th {\n",
       "        vertical-align: top;\n",
       "    }\n",
       "\n",
       "    .dataframe thead th {\n",
       "        text-align: right;\n",
       "    }\n",
       "</style>\n",
       "<table border=\"1\" class=\"dataframe\">\n",
       "  <thead>\n",
       "    <tr style=\"text-align: right;\">\n",
       "      <th></th>\n",
       "      <th>InvoiceNo</th>\n",
       "      <th>StockCode</th>\n",
       "      <th>Description</th>\n",
       "      <th>Quantity</th>\n",
       "      <th>InvoiceDate</th>\n",
       "      <th>UnitPrice</th>\n",
       "      <th>CustomerID</th>\n",
       "      <th>Country</th>\n",
       "    </tr>\n",
       "  </thead>\n",
       "  <tbody>\n",
       "    <tr>\n",
       "      <th>190</th>\n",
       "      <td>537466</td>\n",
       "      <td>21488</td>\n",
       "      <td>None</td>\n",
       "      <td>-50</td>\n",
       "      <td>12/7/2010 10:33</td>\n",
       "      <td>0.0</td>\n",
       "      <td>NaN</td>\n",
       "      <td>United Kingdom</td>\n",
       "    </tr>\n",
       "    <tr>\n",
       "      <th>623</th>\n",
       "      <td>536414</td>\n",
       "      <td>22139</td>\n",
       "      <td>None</td>\n",
       "      <td>56</td>\n",
       "      <td>12/1/2010 11:52</td>\n",
       "      <td>0.0</td>\n",
       "      <td>NaN</td>\n",
       "      <td>United Kingdom</td>\n",
       "    </tr>\n",
       "    <tr>\n",
       "      <th>1396</th>\n",
       "      <td>537873</td>\n",
       "      <td>37461</td>\n",
       "      <td>None</td>\n",
       "      <td>1</td>\n",
       "      <td>12/8/2010 18:07</td>\n",
       "      <td>0.0</td>\n",
       "      <td>NaN</td>\n",
       "      <td>United Kingdom</td>\n",
       "    </tr>\n",
       "    <tr>\n",
       "      <th>1734</th>\n",
       "      <td>537874</td>\n",
       "      <td>85170A</td>\n",
       "      <td>None</td>\n",
       "      <td>1</td>\n",
       "      <td>12/8/2010 18:07</td>\n",
       "      <td>0.0</td>\n",
       "      <td>NaN</td>\n",
       "      <td>United Kingdom</td>\n",
       "    </tr>\n",
       "    <tr>\n",
       "      <th>1974</th>\n",
       "      <td>536545</td>\n",
       "      <td>21134</td>\n",
       "      <td>None</td>\n",
       "      <td>1</td>\n",
       "      <td>12/1/2010 14:32</td>\n",
       "      <td>0.0</td>\n",
       "      <td>NaN</td>\n",
       "      <td>United Kingdom</td>\n",
       "    </tr>\n",
       "    <tr>\n",
       "      <th>...</th>\n",
       "      <td>...</td>\n",
       "      <td>...</td>\n",
       "      <td>...</td>\n",
       "      <td>...</td>\n",
       "      <td>...</td>\n",
       "      <td>...</td>\n",
       "      <td>...</td>\n",
       "      <td>...</td>\n",
       "    </tr>\n",
       "    <tr>\n",
       "      <th>535322</th>\n",
       "      <td>581199</td>\n",
       "      <td>84581</td>\n",
       "      <td>None</td>\n",
       "      <td>-2</td>\n",
       "      <td>12/7/2011 18:26</td>\n",
       "      <td>0.0</td>\n",
       "      <td>NaN</td>\n",
       "      <td>United Kingdom</td>\n",
       "    </tr>\n",
       "    <tr>\n",
       "      <th>535326</th>\n",
       "      <td>581203</td>\n",
       "      <td>23406</td>\n",
       "      <td>None</td>\n",
       "      <td>15</td>\n",
       "      <td>12/7/2011 18:31</td>\n",
       "      <td>0.0</td>\n",
       "      <td>NaN</td>\n",
       "      <td>United Kingdom</td>\n",
       "    </tr>\n",
       "    <tr>\n",
       "      <th>535332</th>\n",
       "      <td>581209</td>\n",
       "      <td>21620</td>\n",
       "      <td>None</td>\n",
       "      <td>6</td>\n",
       "      <td>12/7/2011 18:35</td>\n",
       "      <td>0.0</td>\n",
       "      <td>NaN</td>\n",
       "      <td>United Kingdom</td>\n",
       "    </tr>\n",
       "    <tr>\n",
       "      <th>536981</th>\n",
       "      <td>581234</td>\n",
       "      <td>72817</td>\n",
       "      <td>None</td>\n",
       "      <td>27</td>\n",
       "      <td>12/8/2011 10:33</td>\n",
       "      <td>0.0</td>\n",
       "      <td>NaN</td>\n",
       "      <td>United Kingdom</td>\n",
       "    </tr>\n",
       "    <tr>\n",
       "      <th>538555</th>\n",
       "      <td>581408</td>\n",
       "      <td>85175</td>\n",
       "      <td>None</td>\n",
       "      <td>20</td>\n",
       "      <td>12/8/2011 14:06</td>\n",
       "      <td>0.0</td>\n",
       "      <td>NaN</td>\n",
       "      <td>United Kingdom</td>\n",
       "    </tr>\n",
       "  </tbody>\n",
       "</table>\n",
       "<p>1454 rows × 8 columns</p>\n",
       "</div>"
      ]
     },
     "execution_count": 38,
     "metadata": {},
     "output_type": "execute_result"
    }
   ],
   "execution_count": 38
  },
  {
   "metadata": {},
   "cell_type": "markdown",
   "source": [
    "有 1454 筆交易資料缺失`Description`變數值。\n",
    "\n",
    "從輸出結果來看，這些缺失`Description`的交易數據，`UnitPrice`都是 0。為了驗證猜想，我們增加篩選條件，看是否存在`Description`變數缺失且`UnitPrice`不為 0 的資料。"
   ],
   "id": "877460e6df76be7d"
  },
  {
   "metadata": {
    "ExecuteTime": {
     "end_time": "2024-07-28T08:49:40.305289Z",
     "start_time": "2024-07-28T08:49:40.285251Z"
    }
   },
   "cell_type": "code",
   "source": "original_data[(original_data[\"Description\"].isnull()) & (original_data[\"UnitPrice\"] != 0)]",
   "id": "ba2fc4deb714c8c5",
   "outputs": [
    {
     "data": {
      "text/plain": [
       "Empty DataFrame\n",
       "Columns: [InvoiceNo, StockCode, Description, Quantity, InvoiceDate, UnitPrice, CustomerID, Country]\n",
       "Index: []"
      ],
      "text/html": [
       "<div>\n",
       "<style scoped>\n",
       "    .dataframe tbody tr th:only-of-type {\n",
       "        vertical-align: middle;\n",
       "    }\n",
       "\n",
       "    .dataframe tbody tr th {\n",
       "        vertical-align: top;\n",
       "    }\n",
       "\n",
       "    .dataframe thead th {\n",
       "        text-align: right;\n",
       "    }\n",
       "</style>\n",
       "<table border=\"1\" class=\"dataframe\">\n",
       "  <thead>\n",
       "    <tr style=\"text-align: right;\">\n",
       "      <th></th>\n",
       "      <th>InvoiceNo</th>\n",
       "      <th>StockCode</th>\n",
       "      <th>Description</th>\n",
       "      <th>Quantity</th>\n",
       "      <th>InvoiceDate</th>\n",
       "      <th>UnitPrice</th>\n",
       "      <th>CustomerID</th>\n",
       "      <th>Country</th>\n",
       "    </tr>\n",
       "  </thead>\n",
       "  <tbody>\n",
       "  </tbody>\n",
       "</table>\n",
       "</div>"
      ]
     },
     "execution_count": 39,
     "metadata": {},
     "output_type": "execute_result"
    }
   ],
   "execution_count": 39
  },
  {
   "metadata": {},
   "cell_type": "markdown",
   "source": [
    "篩選出來結果數為 0 條，說明缺失`Description`值的數據，同時也不具備有效的`UnitPrice`值。\n",
    "\n",
    "`Description`表示產品名稱，`UnitPrice`表示產品單價，都是進行後續商品交易分析的重要變數。如果它們同時缺失/無效，我們認為資料無法提供有效含義，因此這些後續可以被刪除。"
   ],
   "id": "dbb5e2eef41dc8"
  },
  {
   "metadata": {},
   "cell_type": "markdown",
   "source": "`CustomerID`變數同樣存在缺失值，因此也根據條件擷取缺失觀察值。",
   "id": "e68a4361b2aa0054"
  },
  {
   "metadata": {
    "ExecuteTime": {
     "end_time": "2024-07-28T08:49:40.323763Z",
     "start_time": "2024-07-28T08:49:40.306039Z"
    }
   },
   "cell_type": "code",
   "source": "original_data[original_data[\"CustomerID\"].isnull()]",
   "id": "6006b66a2f8c2ecd",
   "outputs": [
    {
     "data": {
      "text/plain": [
       "       InvoiceNo StockCode                      Description  Quantity  \\\n",
       "190       537466     21488                             None       -50   \n",
       "623       536414     22139                             None        56   \n",
       "948       537639     22734                           amazon        30   \n",
       "1396      537873     37461                             None         1   \n",
       "1446      536544     21773  DECORATIVE ROSE BATHROOM BOTTLE         1   \n",
       "...          ...       ...                              ...       ...   \n",
       "541536    581498    85099B          JUMBO BAG RED RETROSPOT         5   \n",
       "541537    581498    85099C   JUMBO  BAG BAROQUE BLACK WHITE         4   \n",
       "541538    581498     85150    LADIES & GENTLEMEN METAL SIGN         1   \n",
       "541539    581498     85174                S/4 CACTI CANDLES         1   \n",
       "541540    581498       DOT                   DOTCOM POSTAGE         1   \n",
       "\n",
       "            InvoiceDate  UnitPrice  CustomerID         Country  \n",
       "190     12/7/2010 10:33       0.00         NaN  United Kingdom  \n",
       "623     12/1/2010 11:52       0.00         NaN  United Kingdom  \n",
       "948     12/7/2010 15:29       0.00         NaN  United Kingdom  \n",
       "1396    12/8/2010 18:07       0.00         NaN  United Kingdom  \n",
       "1446    12/1/2010 14:32       2.51         NaN  United Kingdom  \n",
       "...                 ...        ...         ...             ...  \n",
       "541536  12/9/2011 10:26       4.13         NaN  United Kingdom  \n",
       "541537  12/9/2011 10:26       4.13         NaN  United Kingdom  \n",
       "541538  12/9/2011 10:26       4.96         NaN  United Kingdom  \n",
       "541539  12/9/2011 10:26      10.79         NaN  United Kingdom  \n",
       "541540  12/9/2011 10:26    1714.17         NaN  United Kingdom  \n",
       "\n",
       "[135080 rows x 8 columns]"
      ],
      "text/html": [
       "<div>\n",
       "<style scoped>\n",
       "    .dataframe tbody tr th:only-of-type {\n",
       "        vertical-align: middle;\n",
       "    }\n",
       "\n",
       "    .dataframe tbody tr th {\n",
       "        vertical-align: top;\n",
       "    }\n",
       "\n",
       "    .dataframe thead th {\n",
       "        text-align: right;\n",
       "    }\n",
       "</style>\n",
       "<table border=\"1\" class=\"dataframe\">\n",
       "  <thead>\n",
       "    <tr style=\"text-align: right;\">\n",
       "      <th></th>\n",
       "      <th>InvoiceNo</th>\n",
       "      <th>StockCode</th>\n",
       "      <th>Description</th>\n",
       "      <th>Quantity</th>\n",
       "      <th>InvoiceDate</th>\n",
       "      <th>UnitPrice</th>\n",
       "      <th>CustomerID</th>\n",
       "      <th>Country</th>\n",
       "    </tr>\n",
       "  </thead>\n",
       "  <tbody>\n",
       "    <tr>\n",
       "      <th>190</th>\n",
       "      <td>537466</td>\n",
       "      <td>21488</td>\n",
       "      <td>None</td>\n",
       "      <td>-50</td>\n",
       "      <td>12/7/2010 10:33</td>\n",
       "      <td>0.00</td>\n",
       "      <td>NaN</td>\n",
       "      <td>United Kingdom</td>\n",
       "    </tr>\n",
       "    <tr>\n",
       "      <th>623</th>\n",
       "      <td>536414</td>\n",
       "      <td>22139</td>\n",
       "      <td>None</td>\n",
       "      <td>56</td>\n",
       "      <td>12/1/2010 11:52</td>\n",
       "      <td>0.00</td>\n",
       "      <td>NaN</td>\n",
       "      <td>United Kingdom</td>\n",
       "    </tr>\n",
       "    <tr>\n",
       "      <th>948</th>\n",
       "      <td>537639</td>\n",
       "      <td>22734</td>\n",
       "      <td>amazon</td>\n",
       "      <td>30</td>\n",
       "      <td>12/7/2010 15:29</td>\n",
       "      <td>0.00</td>\n",
       "      <td>NaN</td>\n",
       "      <td>United Kingdom</td>\n",
       "    </tr>\n",
       "    <tr>\n",
       "      <th>1396</th>\n",
       "      <td>537873</td>\n",
       "      <td>37461</td>\n",
       "      <td>None</td>\n",
       "      <td>1</td>\n",
       "      <td>12/8/2010 18:07</td>\n",
       "      <td>0.00</td>\n",
       "      <td>NaN</td>\n",
       "      <td>United Kingdom</td>\n",
       "    </tr>\n",
       "    <tr>\n",
       "      <th>1446</th>\n",
       "      <td>536544</td>\n",
       "      <td>21773</td>\n",
       "      <td>DECORATIVE ROSE BATHROOM BOTTLE</td>\n",
       "      <td>1</td>\n",
       "      <td>12/1/2010 14:32</td>\n",
       "      <td>2.51</td>\n",
       "      <td>NaN</td>\n",
       "      <td>United Kingdom</td>\n",
       "    </tr>\n",
       "    <tr>\n",
       "      <th>...</th>\n",
       "      <td>...</td>\n",
       "      <td>...</td>\n",
       "      <td>...</td>\n",
       "      <td>...</td>\n",
       "      <td>...</td>\n",
       "      <td>...</td>\n",
       "      <td>...</td>\n",
       "      <td>...</td>\n",
       "    </tr>\n",
       "    <tr>\n",
       "      <th>541536</th>\n",
       "      <td>581498</td>\n",
       "      <td>85099B</td>\n",
       "      <td>JUMBO BAG RED RETROSPOT</td>\n",
       "      <td>5</td>\n",
       "      <td>12/9/2011 10:26</td>\n",
       "      <td>4.13</td>\n",
       "      <td>NaN</td>\n",
       "      <td>United Kingdom</td>\n",
       "    </tr>\n",
       "    <tr>\n",
       "      <th>541537</th>\n",
       "      <td>581498</td>\n",
       "      <td>85099C</td>\n",
       "      <td>JUMBO  BAG BAROQUE BLACK WHITE</td>\n",
       "      <td>4</td>\n",
       "      <td>12/9/2011 10:26</td>\n",
       "      <td>4.13</td>\n",
       "      <td>NaN</td>\n",
       "      <td>United Kingdom</td>\n",
       "    </tr>\n",
       "    <tr>\n",
       "      <th>541538</th>\n",
       "      <td>581498</td>\n",
       "      <td>85150</td>\n",
       "      <td>LADIES &amp; GENTLEMEN METAL SIGN</td>\n",
       "      <td>1</td>\n",
       "      <td>12/9/2011 10:26</td>\n",
       "      <td>4.96</td>\n",
       "      <td>NaN</td>\n",
       "      <td>United Kingdom</td>\n",
       "    </tr>\n",
       "    <tr>\n",
       "      <th>541539</th>\n",
       "      <td>581498</td>\n",
       "      <td>85174</td>\n",
       "      <td>S/4 CACTI CANDLES</td>\n",
       "      <td>1</td>\n",
       "      <td>12/9/2011 10:26</td>\n",
       "      <td>10.79</td>\n",
       "      <td>NaN</td>\n",
       "      <td>United Kingdom</td>\n",
       "    </tr>\n",
       "    <tr>\n",
       "      <th>541540</th>\n",
       "      <td>581498</td>\n",
       "      <td>DOT</td>\n",
       "      <td>DOTCOM POSTAGE</td>\n",
       "      <td>1</td>\n",
       "      <td>12/9/2011 10:26</td>\n",
       "      <td>1714.17</td>\n",
       "      <td>NaN</td>\n",
       "      <td>United Kingdom</td>\n",
       "    </tr>\n",
       "  </tbody>\n",
       "</table>\n",
       "<p>135080 rows × 8 columns</p>\n",
       "</div>"
      ]
     },
     "execution_count": 40,
     "metadata": {},
     "output_type": "execute_result"
    }
   ],
   "execution_count": 40
  },
  {
   "metadata": {},
   "cell_type": "markdown",
   "source": "`CustomerID`表示顧客編號，並非分析暢銷商品的必要變數。而從輸出結果來看，有些`CustomerID`缺少的交易資料仍然有效，因此保留此變數為空的觀察值。",
   "id": "a5c0a9a47e44b0c5"
  },
  {
   "metadata": {},
   "cell_type": "markdown",
   "source": "#### 評估重複數據",
   "id": "e8ca60b24cfc6907"
  },
  {
   "metadata": {},
   "cell_type": "markdown",
   "source": [
    "根據資料變數的意義來看，雖然`InvoiceNo`、`StockCode`和`CustomerID`都是唯一識別符，但一次交易可能包含多件商品，因此`InvoiceNo`可以存在重複，不同交易可以包含同件商品，因此`StockCode`可以重複，顧客可以進行多次交易或下單多個商品，因此`CustomerID`也可以存在重複。\n",
    "\n",
    "那麼針對此資料集，我們無需評估重複資料。"
   ],
   "id": "b3c0e6396fca6588"
  },
  {
   "metadata": {},
   "cell_type": "markdown",
   "source": "#### 評估不一致數據",
   "id": "40ab8a961943830d"
  },
  {
   "metadata": {},
   "cell_type": "markdown",
   "source": "不一致資料可能存在於`Country`變數中，我們要查看是否存在多個不同值指涉同一國家的情況。",
   "id": "f8abeda3533d124f"
  },
  {
   "metadata": {
    "ExecuteTime": {
     "end_time": "2024-07-28T08:49:40.350969Z",
     "start_time": "2024-07-28T08:49:40.324490Z"
    }
   },
   "cell_type": "code",
   "source": "original_data[\"Country\"].value_counts()",
   "id": "3da34ae0ea89e80a",
   "outputs": [
    {
     "data": {
      "text/plain": [
       "Country\n",
       "United Kingdom          495266\n",
       "Germany                   9495\n",
       "France                    8557\n",
       "EIRE                      8196\n",
       "Spain                     2533\n",
       "Netherlands               2371\n",
       "Belgium                   2069\n",
       "Switzerland               2002\n",
       "Portugal                  1519\n",
       "Australia                 1259\n",
       "Norway                    1086\n",
       "Italy                      803\n",
       "Channel Islands            758\n",
       "Finland                    695\n",
       "Cyprus                     622\n",
       "Sweden                     462\n",
       "Unspecified                446\n",
       "Austria                    401\n",
       "Denmark                    389\n",
       "Japan                      358\n",
       "Poland                     341\n",
       "Israel                     297\n",
       "China                      288\n",
       "Singapore                  229\n",
       "USA                        218\n",
       "UK                         211\n",
       "Iceland                    182\n",
       "Canada                     151\n",
       "Greece                     146\n",
       "Malta                      127\n",
       "United States               73\n",
       "United Arab Emirates        68\n",
       "European Community          61\n",
       "RSA                         58\n",
       "Lebanon                     45\n",
       "Lithuania                   35\n",
       "Brazil                      32\n",
       "Czech Republic              30\n",
       "Bahrain                     19\n",
       "Saudi Arabia                10\n",
       "U.K.                         1\n",
       "Name: count, dtype: int64"
      ]
     },
     "execution_count": 41,
     "metadata": {},
     "output_type": "execute_result"
    }
   ],
   "execution_count": 41
  },
  {
   "metadata": {},
   "cell_type": "markdown",
   "source": "從`Country`變數值來看，`\"USA\"`、`\"United States\"`皆在表示美國，`\"United Kingdom\"`、`\"UK\"`、`\"U.K.\"`皆在表示英國，因此應該在清洗步驟對這些值進行統一，只保留一個指代值。",
   "id": "97232f66d5194183"
  },
  {
   "metadata": {},
   "cell_type": "markdown",
   "source": "#### 評估無效或錯誤數據",
   "id": "8605b26be0365a58"
  },
  {
   "metadata": {},
   "cell_type": "markdown",
   "source": "可以透過 DataFrame 的`describe`方法，對數值統計資訊進行快速了解。",
   "id": "a29842c3aa285a3a"
  },
  {
   "metadata": {
    "ExecuteTime": {
     "end_time": "2024-07-28T08:49:40.423172Z",
     "start_time": "2024-07-28T08:49:40.351847Z"
    }
   },
   "cell_type": "code",
   "source": "original_data.describe()",
   "id": "4a2a6ac8c0de18dd",
   "outputs": [
    {
     "data": {
      "text/plain": [
       "            Quantity      UnitPrice     CustomerID\n",
       "count  541909.000000  541909.000000  406829.000000\n",
       "mean        9.552250       4.611114   15287.690570\n",
       "std       218.081158      96.759853    1713.600303\n",
       "min    -80995.000000  -11062.060000   12346.000000\n",
       "25%         1.000000       1.250000   13953.000000\n",
       "50%         3.000000       2.080000   15152.000000\n",
       "75%        10.000000       4.130000   16791.000000\n",
       "max     80995.000000   38970.000000   18287.000000"
      ],
      "text/html": [
       "<div>\n",
       "<style scoped>\n",
       "    .dataframe tbody tr th:only-of-type {\n",
       "        vertical-align: middle;\n",
       "    }\n",
       "\n",
       "    .dataframe tbody tr th {\n",
       "        vertical-align: top;\n",
       "    }\n",
       "\n",
       "    .dataframe thead th {\n",
       "        text-align: right;\n",
       "    }\n",
       "</style>\n",
       "<table border=\"1\" class=\"dataframe\">\n",
       "  <thead>\n",
       "    <tr style=\"text-align: right;\">\n",
       "      <th></th>\n",
       "      <th>Quantity</th>\n",
       "      <th>UnitPrice</th>\n",
       "      <th>CustomerID</th>\n",
       "    </tr>\n",
       "  </thead>\n",
       "  <tbody>\n",
       "    <tr>\n",
       "      <th>count</th>\n",
       "      <td>541909.000000</td>\n",
       "      <td>541909.000000</td>\n",
       "      <td>406829.000000</td>\n",
       "    </tr>\n",
       "    <tr>\n",
       "      <th>mean</th>\n",
       "      <td>9.552250</td>\n",
       "      <td>4.611114</td>\n",
       "      <td>15287.690570</td>\n",
       "    </tr>\n",
       "    <tr>\n",
       "      <th>std</th>\n",
       "      <td>218.081158</td>\n",
       "      <td>96.759853</td>\n",
       "      <td>1713.600303</td>\n",
       "    </tr>\n",
       "    <tr>\n",
       "      <th>min</th>\n",
       "      <td>-80995.000000</td>\n",
       "      <td>-11062.060000</td>\n",
       "      <td>12346.000000</td>\n",
       "    </tr>\n",
       "    <tr>\n",
       "      <th>25%</th>\n",
       "      <td>1.000000</td>\n",
       "      <td>1.250000</td>\n",
       "      <td>13953.000000</td>\n",
       "    </tr>\n",
       "    <tr>\n",
       "      <th>50%</th>\n",
       "      <td>3.000000</td>\n",
       "      <td>2.080000</td>\n",
       "      <td>15152.000000</td>\n",
       "    </tr>\n",
       "    <tr>\n",
       "      <th>75%</th>\n",
       "      <td>10.000000</td>\n",
       "      <td>4.130000</td>\n",
       "      <td>16791.000000</td>\n",
       "    </tr>\n",
       "    <tr>\n",
       "      <th>max</th>\n",
       "      <td>80995.000000</td>\n",
       "      <td>38970.000000</td>\n",
       "      <td>18287.000000</td>\n",
       "    </tr>\n",
       "  </tbody>\n",
       "</table>\n",
       "</div>"
      ]
     },
     "execution_count": 42,
     "metadata": {},
     "output_type": "execute_result"
    }
   ],
   "execution_count": 42
  },
  {
   "metadata": {},
   "cell_type": "markdown",
   "source": [
    "從輸出結果來看，`Quantity`和`UnitPrice`存在負數，會對後續數值分析產生影響。\n",
    "\n",
    "因此，我們先篩選出`Quantity`數值為負數的觀察值，進一步評估其意義。"
   ],
   "id": "eea690d5ddce643e"
  },
  {
   "metadata": {
    "ExecuteTime": {
     "end_time": "2024-07-28T08:49:40.444622Z",
     "start_time": "2024-07-28T08:49:40.424266Z"
    }
   },
   "cell_type": "code",
   "source": "original_data[original_data[\"Quantity\"] < 0]",
   "id": "4d0e11582d189b3b",
   "outputs": [
    {
     "data": {
      "text/plain": [
       "       InvoiceNo StockCode                       Description  Quantity  \\\n",
       "141      C536379         D                          Discount        -1   \n",
       "154      C536383    35004C   SET OF 3 COLOURED  FLYING DUCKS        -1   \n",
       "190       537466     21488                              None       -50   \n",
       "236      C536391     22556    PLASTERS IN TIN CIRCUS PARADE        -12   \n",
       "237      C536391     21984  PACK OF 12 PINK PAISLEY TISSUES        -24   \n",
       "...          ...       ...                               ...       ...   \n",
       "540450   C581490     23144   ZINC T-LIGHT HOLDER STARS SMALL       -11   \n",
       "541541   C581499         M                            Manual        -1   \n",
       "541715   C581568     21258        VICTORIAN SEWING BOX LARGE        -5   \n",
       "541716   C581569     84978  HANGING HEART JAR T-LIGHT HOLDER        -1   \n",
       "541717   C581569     20979     36 PENCILS TUBE RED RETROSPOT        -5   \n",
       "\n",
       "            InvoiceDate  UnitPrice  CustomerID         Country  \n",
       "141      12/1/2010 9:41      27.50     14527.0  United Kingdom  \n",
       "154      12/1/2010 9:49       4.65     15311.0  United Kingdom  \n",
       "190     12/7/2010 10:33       0.00         NaN  United Kingdom  \n",
       "236     12/1/2010 10:24       1.65     17548.0  United Kingdom  \n",
       "237     12/1/2010 10:24       0.29     17548.0  United Kingdom  \n",
       "...                 ...        ...         ...             ...  \n",
       "540450   12/9/2011 9:57       0.83     14397.0  United Kingdom  \n",
       "541541  12/9/2011 10:28     224.69     15498.0  United Kingdom  \n",
       "541715  12/9/2011 11:57      10.95     15311.0  United Kingdom  \n",
       "541716  12/9/2011 11:58       1.25     17315.0  United Kingdom  \n",
       "541717  12/9/2011 11:58       1.25     17315.0  United Kingdom  \n",
       "\n",
       "[10624 rows x 8 columns]"
      ],
      "text/html": [
       "<div>\n",
       "<style scoped>\n",
       "    .dataframe tbody tr th:only-of-type {\n",
       "        vertical-align: middle;\n",
       "    }\n",
       "\n",
       "    .dataframe tbody tr th {\n",
       "        vertical-align: top;\n",
       "    }\n",
       "\n",
       "    .dataframe thead th {\n",
       "        text-align: right;\n",
       "    }\n",
       "</style>\n",
       "<table border=\"1\" class=\"dataframe\">\n",
       "  <thead>\n",
       "    <tr style=\"text-align: right;\">\n",
       "      <th></th>\n",
       "      <th>InvoiceNo</th>\n",
       "      <th>StockCode</th>\n",
       "      <th>Description</th>\n",
       "      <th>Quantity</th>\n",
       "      <th>InvoiceDate</th>\n",
       "      <th>UnitPrice</th>\n",
       "      <th>CustomerID</th>\n",
       "      <th>Country</th>\n",
       "    </tr>\n",
       "  </thead>\n",
       "  <tbody>\n",
       "    <tr>\n",
       "      <th>141</th>\n",
       "      <td>C536379</td>\n",
       "      <td>D</td>\n",
       "      <td>Discount</td>\n",
       "      <td>-1</td>\n",
       "      <td>12/1/2010 9:41</td>\n",
       "      <td>27.50</td>\n",
       "      <td>14527.0</td>\n",
       "      <td>United Kingdom</td>\n",
       "    </tr>\n",
       "    <tr>\n",
       "      <th>154</th>\n",
       "      <td>C536383</td>\n",
       "      <td>35004C</td>\n",
       "      <td>SET OF 3 COLOURED  FLYING DUCKS</td>\n",
       "      <td>-1</td>\n",
       "      <td>12/1/2010 9:49</td>\n",
       "      <td>4.65</td>\n",
       "      <td>15311.0</td>\n",
       "      <td>United Kingdom</td>\n",
       "    </tr>\n",
       "    <tr>\n",
       "      <th>190</th>\n",
       "      <td>537466</td>\n",
       "      <td>21488</td>\n",
       "      <td>None</td>\n",
       "      <td>-50</td>\n",
       "      <td>12/7/2010 10:33</td>\n",
       "      <td>0.00</td>\n",
       "      <td>NaN</td>\n",
       "      <td>United Kingdom</td>\n",
       "    </tr>\n",
       "    <tr>\n",
       "      <th>236</th>\n",
       "      <td>C536391</td>\n",
       "      <td>22556</td>\n",
       "      <td>PLASTERS IN TIN CIRCUS PARADE</td>\n",
       "      <td>-12</td>\n",
       "      <td>12/1/2010 10:24</td>\n",
       "      <td>1.65</td>\n",
       "      <td>17548.0</td>\n",
       "      <td>United Kingdom</td>\n",
       "    </tr>\n",
       "    <tr>\n",
       "      <th>237</th>\n",
       "      <td>C536391</td>\n",
       "      <td>21984</td>\n",
       "      <td>PACK OF 12 PINK PAISLEY TISSUES</td>\n",
       "      <td>-24</td>\n",
       "      <td>12/1/2010 10:24</td>\n",
       "      <td>0.29</td>\n",
       "      <td>17548.0</td>\n",
       "      <td>United Kingdom</td>\n",
       "    </tr>\n",
       "    <tr>\n",
       "      <th>...</th>\n",
       "      <td>...</td>\n",
       "      <td>...</td>\n",
       "      <td>...</td>\n",
       "      <td>...</td>\n",
       "      <td>...</td>\n",
       "      <td>...</td>\n",
       "      <td>...</td>\n",
       "      <td>...</td>\n",
       "    </tr>\n",
       "    <tr>\n",
       "      <th>540450</th>\n",
       "      <td>C581490</td>\n",
       "      <td>23144</td>\n",
       "      <td>ZINC T-LIGHT HOLDER STARS SMALL</td>\n",
       "      <td>-11</td>\n",
       "      <td>12/9/2011 9:57</td>\n",
       "      <td>0.83</td>\n",
       "      <td>14397.0</td>\n",
       "      <td>United Kingdom</td>\n",
       "    </tr>\n",
       "    <tr>\n",
       "      <th>541541</th>\n",
       "      <td>C581499</td>\n",
       "      <td>M</td>\n",
       "      <td>Manual</td>\n",
       "      <td>-1</td>\n",
       "      <td>12/9/2011 10:28</td>\n",
       "      <td>224.69</td>\n",
       "      <td>15498.0</td>\n",
       "      <td>United Kingdom</td>\n",
       "    </tr>\n",
       "    <tr>\n",
       "      <th>541715</th>\n",
       "      <td>C581568</td>\n",
       "      <td>21258</td>\n",
       "      <td>VICTORIAN SEWING BOX LARGE</td>\n",
       "      <td>-5</td>\n",
       "      <td>12/9/2011 11:57</td>\n",
       "      <td>10.95</td>\n",
       "      <td>15311.0</td>\n",
       "      <td>United Kingdom</td>\n",
       "    </tr>\n",
       "    <tr>\n",
       "      <th>541716</th>\n",
       "      <td>C581569</td>\n",
       "      <td>84978</td>\n",
       "      <td>HANGING HEART JAR T-LIGHT HOLDER</td>\n",
       "      <td>-1</td>\n",
       "      <td>12/9/2011 11:58</td>\n",
       "      <td>1.25</td>\n",
       "      <td>17315.0</td>\n",
       "      <td>United Kingdom</td>\n",
       "    </tr>\n",
       "    <tr>\n",
       "      <th>541717</th>\n",
       "      <td>C581569</td>\n",
       "      <td>20979</td>\n",
       "      <td>36 PENCILS TUBE RED RETROSPOT</td>\n",
       "      <td>-5</td>\n",
       "      <td>12/9/2011 11:58</td>\n",
       "      <td>1.25</td>\n",
       "      <td>17315.0</td>\n",
       "      <td>United Kingdom</td>\n",
       "    </tr>\n",
       "  </tbody>\n",
       "</table>\n",
       "<p>10624 rows × 8 columns</p>\n",
       "</div>"
      ]
     },
     "execution_count": 43,
     "metadata": {},
     "output_type": "execute_result"
    }
   ],
   "execution_count": 43
  },
  {
   "metadata": {},
   "cell_type": "markdown",
   "source": [
    "從篩選結果來看，`Quantity`變數為負數的觀察值，`InvoiceNo`似乎都以C開頭，表示訂單被取消。\n",
    "\n",
    "但此猜測不一定準確，為了驗證猜想，我們增加篩選條件，看是否存在`Quantity`變數為負數且`InvoiceNo`不以C開頭的觀察值。"
   ],
   "id": "1e11cccd6676b34a"
  },
  {
   "metadata": {
    "ExecuteTime": {
     "end_time": "2024-07-28T08:49:40.546822Z",
     "start_time": "2024-07-28T08:49:40.446566Z"
    }
   },
   "cell_type": "code",
   "source": "original_data[(original_data[\"Quantity\"] < 0) & (original_data[\"InvoiceNo\"].str[0] != \"C\")]",
   "id": "1d3e445f511953c9",
   "outputs": [
    {
     "data": {
      "text/plain": [
       "       InvoiceNo StockCode Description  Quantity       InvoiceDate  UnitPrice  \\\n",
       "190       537466     21488        None       -50   12/7/2010 10:33        0.0   \n",
       "2410      536589     21777        None       -10   12/1/2010 16:50        0.0   \n",
       "4355      536764    84952C        None       -38   12/2/2010 14:42        0.0   \n",
       "4452      538247     79067        None      -145  12/10/2010 12:09        0.0   \n",
       "5875      549136     21414        None        -3    4/6/2011 15:23        0.0   \n",
       "...          ...       ...         ...       ...               ...        ...   \n",
       "535333    581210     23395       check       -26   12/7/2011 18:36        0.0   \n",
       "535335    581212     22578        lost     -1050   12/7/2011 18:38        0.0   \n",
       "535336    581213     22576       check       -30   12/7/2011 18:38        0.0   \n",
       "536908    581226     23090     missing      -338    12/8/2011 9:56        0.0   \n",
       "538920    581422     23169     smashed      -235   12/8/2011 15:24        0.0   \n",
       "\n",
       "        CustomerID         Country  \n",
       "190            NaN  United Kingdom  \n",
       "2410           NaN  United Kingdom  \n",
       "4355           NaN  United Kingdom  \n",
       "4452           NaN  United Kingdom  \n",
       "5875           NaN  United Kingdom  \n",
       "...            ...             ...  \n",
       "535333         NaN  United Kingdom  \n",
       "535335         NaN  United Kingdom  \n",
       "535336         NaN  United Kingdom  \n",
       "536908         NaN  United Kingdom  \n",
       "538920         NaN  United Kingdom  \n",
       "\n",
       "[1336 rows x 8 columns]"
      ],
      "text/html": [
       "<div>\n",
       "<style scoped>\n",
       "    .dataframe tbody tr th:only-of-type {\n",
       "        vertical-align: middle;\n",
       "    }\n",
       "\n",
       "    .dataframe tbody tr th {\n",
       "        vertical-align: top;\n",
       "    }\n",
       "\n",
       "    .dataframe thead th {\n",
       "        text-align: right;\n",
       "    }\n",
       "</style>\n",
       "<table border=\"1\" class=\"dataframe\">\n",
       "  <thead>\n",
       "    <tr style=\"text-align: right;\">\n",
       "      <th></th>\n",
       "      <th>InvoiceNo</th>\n",
       "      <th>StockCode</th>\n",
       "      <th>Description</th>\n",
       "      <th>Quantity</th>\n",
       "      <th>InvoiceDate</th>\n",
       "      <th>UnitPrice</th>\n",
       "      <th>CustomerID</th>\n",
       "      <th>Country</th>\n",
       "    </tr>\n",
       "  </thead>\n",
       "  <tbody>\n",
       "    <tr>\n",
       "      <th>190</th>\n",
       "      <td>537466</td>\n",
       "      <td>21488</td>\n",
       "      <td>None</td>\n",
       "      <td>-50</td>\n",
       "      <td>12/7/2010 10:33</td>\n",
       "      <td>0.0</td>\n",
       "      <td>NaN</td>\n",
       "      <td>United Kingdom</td>\n",
       "    </tr>\n",
       "    <tr>\n",
       "      <th>2410</th>\n",
       "      <td>536589</td>\n",
       "      <td>21777</td>\n",
       "      <td>None</td>\n",
       "      <td>-10</td>\n",
       "      <td>12/1/2010 16:50</td>\n",
       "      <td>0.0</td>\n",
       "      <td>NaN</td>\n",
       "      <td>United Kingdom</td>\n",
       "    </tr>\n",
       "    <tr>\n",
       "      <th>4355</th>\n",
       "      <td>536764</td>\n",
       "      <td>84952C</td>\n",
       "      <td>None</td>\n",
       "      <td>-38</td>\n",
       "      <td>12/2/2010 14:42</td>\n",
       "      <td>0.0</td>\n",
       "      <td>NaN</td>\n",
       "      <td>United Kingdom</td>\n",
       "    </tr>\n",
       "    <tr>\n",
       "      <th>4452</th>\n",
       "      <td>538247</td>\n",
       "      <td>79067</td>\n",
       "      <td>None</td>\n",
       "      <td>-145</td>\n",
       "      <td>12/10/2010 12:09</td>\n",
       "      <td>0.0</td>\n",
       "      <td>NaN</td>\n",
       "      <td>United Kingdom</td>\n",
       "    </tr>\n",
       "    <tr>\n",
       "      <th>5875</th>\n",
       "      <td>549136</td>\n",
       "      <td>21414</td>\n",
       "      <td>None</td>\n",
       "      <td>-3</td>\n",
       "      <td>4/6/2011 15:23</td>\n",
       "      <td>0.0</td>\n",
       "      <td>NaN</td>\n",
       "      <td>United Kingdom</td>\n",
       "    </tr>\n",
       "    <tr>\n",
       "      <th>...</th>\n",
       "      <td>...</td>\n",
       "      <td>...</td>\n",
       "      <td>...</td>\n",
       "      <td>...</td>\n",
       "      <td>...</td>\n",
       "      <td>...</td>\n",
       "      <td>...</td>\n",
       "      <td>...</td>\n",
       "    </tr>\n",
       "    <tr>\n",
       "      <th>535333</th>\n",
       "      <td>581210</td>\n",
       "      <td>23395</td>\n",
       "      <td>check</td>\n",
       "      <td>-26</td>\n",
       "      <td>12/7/2011 18:36</td>\n",
       "      <td>0.0</td>\n",
       "      <td>NaN</td>\n",
       "      <td>United Kingdom</td>\n",
       "    </tr>\n",
       "    <tr>\n",
       "      <th>535335</th>\n",
       "      <td>581212</td>\n",
       "      <td>22578</td>\n",
       "      <td>lost</td>\n",
       "      <td>-1050</td>\n",
       "      <td>12/7/2011 18:38</td>\n",
       "      <td>0.0</td>\n",
       "      <td>NaN</td>\n",
       "      <td>United Kingdom</td>\n",
       "    </tr>\n",
       "    <tr>\n",
       "      <th>535336</th>\n",
       "      <td>581213</td>\n",
       "      <td>22576</td>\n",
       "      <td>check</td>\n",
       "      <td>-30</td>\n",
       "      <td>12/7/2011 18:38</td>\n",
       "      <td>0.0</td>\n",
       "      <td>NaN</td>\n",
       "      <td>United Kingdom</td>\n",
       "    </tr>\n",
       "    <tr>\n",
       "      <th>536908</th>\n",
       "      <td>581226</td>\n",
       "      <td>23090</td>\n",
       "      <td>missing</td>\n",
       "      <td>-338</td>\n",
       "      <td>12/8/2011 9:56</td>\n",
       "      <td>0.0</td>\n",
       "      <td>NaN</td>\n",
       "      <td>United Kingdom</td>\n",
       "    </tr>\n",
       "    <tr>\n",
       "      <th>538920</th>\n",
       "      <td>581422</td>\n",
       "      <td>23169</td>\n",
       "      <td>smashed</td>\n",
       "      <td>-235</td>\n",
       "      <td>12/8/2011 15:24</td>\n",
       "      <td>0.0</td>\n",
       "      <td>NaN</td>\n",
       "      <td>United Kingdom</td>\n",
       "    </tr>\n",
       "  </tbody>\n",
       "</table>\n",
       "<p>1336 rows × 8 columns</p>\n",
       "</div>"
      ]
     },
     "execution_count": 44,
     "metadata": {},
     "output_type": "execute_result"
    }
   ],
   "execution_count": 44
  },
  {
   "metadata": {},
   "cell_type": "markdown",
   "source": [
    "以上猜想被證實錯誤，因為還存在`Quantity`變數為負數且`InvoiceNo`不以C開頭的觀察值。\n",
    "\n",
    "但根據上述輸出結果，這些篩選出的觀察值的`UnitPrice`觀察值均為0，因此增加`UnitPrice`的條件進行驗證。"
   ],
   "id": "2944e94d8909a7b6"
  },
  {
   "metadata": {
    "ExecuteTime": {
     "end_time": "2024-07-28T08:49:40.634041Z",
     "start_time": "2024-07-28T08:49:40.547723Z"
    }
   },
   "cell_type": "code",
   "source": "original_data[(original_data[\"Quantity\"] < 0) & (original_data[\"InvoiceNo\"].str[0] != \"C\") & (original_data[\"UnitPrice\"] != 0)]",
   "id": "62a63cfb230d86ee",
   "outputs": [
    {
     "data": {
      "text/plain": [
       "Empty DataFrame\n",
       "Columns: [InvoiceNo, StockCode, Description, Quantity, InvoiceDate, UnitPrice, CustomerID, Country]\n",
       "Index: []"
      ],
      "text/html": [
       "<div>\n",
       "<style scoped>\n",
       "    .dataframe tbody tr th:only-of-type {\n",
       "        vertical-align: middle;\n",
       "    }\n",
       "\n",
       "    .dataframe tbody tr th {\n",
       "        vertical-align: top;\n",
       "    }\n",
       "\n",
       "    .dataframe thead th {\n",
       "        text-align: right;\n",
       "    }\n",
       "</style>\n",
       "<table border=\"1\" class=\"dataframe\">\n",
       "  <thead>\n",
       "    <tr style=\"text-align: right;\">\n",
       "      <th></th>\n",
       "      <th>InvoiceNo</th>\n",
       "      <th>StockCode</th>\n",
       "      <th>Description</th>\n",
       "      <th>Quantity</th>\n",
       "      <th>InvoiceDate</th>\n",
       "      <th>UnitPrice</th>\n",
       "      <th>CustomerID</th>\n",
       "      <th>Country</th>\n",
       "    </tr>\n",
       "  </thead>\n",
       "  <tbody>\n",
       "  </tbody>\n",
       "</table>\n",
       "</div>"
      ]
     },
     "execution_count": 45,
     "metadata": {},
     "output_type": "execute_result"
    }
   ],
   "execution_count": 45
  },
  {
   "metadata": {},
   "cell_type": "markdown",
   "source": [
    "根據輸出結果，猜想得到驗證，當`Quantity`變數為負數的時候，觀察值滿足以下條件之一：\n",
    "- `InvoiceNo`以C開頭，表示訂單被取消\n",
    "- `UnitPrice`為 0，說明單價為 0 英鎊\n",
    "\n",
    "這些交易數據均不是有效成交數據，不貢獻銷售，不在後續分析範圍內，因此我們將在數據清理步驟，將`Quantity`為負數的觀察值刪除。"
   ],
   "id": "fa66180869a48079"
  },
  {
   "metadata": {},
   "cell_type": "markdown",
   "source": "接下來篩選出`UnitPrice`為負數的觀察值。",
   "id": "3079df29bf30f2c1"
  },
  {
   "metadata": {
    "ExecuteTime": {
     "end_time": "2024-07-28T08:49:40.638658Z",
     "start_time": "2024-07-28T08:49:40.634731Z"
    }
   },
   "cell_type": "code",
   "source": "original_data[original_data[\"UnitPrice\"] < 0]",
   "id": "ec6ae90400210dff",
   "outputs": [
    {
     "data": {
      "text/plain": [
       "       InvoiceNo StockCode      Description  Quantity      InvoiceDate  \\\n",
       "299989   A563186         B  Adjust bad debt         1  8/12/2011 14:51   \n",
       "299990   A563187         B  Adjust bad debt         1  8/12/2011 14:52   \n",
       "\n",
       "        UnitPrice  CustomerID         Country  \n",
       "299989  -11062.06         NaN  United Kingdom  \n",
       "299990  -11062.06         NaN  United Kingdom  "
      ],
      "text/html": [
       "<div>\n",
       "<style scoped>\n",
       "    .dataframe tbody tr th:only-of-type {\n",
       "        vertical-align: middle;\n",
       "    }\n",
       "\n",
       "    .dataframe tbody tr th {\n",
       "        vertical-align: top;\n",
       "    }\n",
       "\n",
       "    .dataframe thead th {\n",
       "        text-align: right;\n",
       "    }\n",
       "</style>\n",
       "<table border=\"1\" class=\"dataframe\">\n",
       "  <thead>\n",
       "    <tr style=\"text-align: right;\">\n",
       "      <th></th>\n",
       "      <th>InvoiceNo</th>\n",
       "      <th>StockCode</th>\n",
       "      <th>Description</th>\n",
       "      <th>Quantity</th>\n",
       "      <th>InvoiceDate</th>\n",
       "      <th>UnitPrice</th>\n",
       "      <th>CustomerID</th>\n",
       "      <th>Country</th>\n",
       "    </tr>\n",
       "  </thead>\n",
       "  <tbody>\n",
       "    <tr>\n",
       "      <th>299989</th>\n",
       "      <td>A563186</td>\n",
       "      <td>B</td>\n",
       "      <td>Adjust bad debt</td>\n",
       "      <td>1</td>\n",
       "      <td>8/12/2011 14:51</td>\n",
       "      <td>-11062.06</td>\n",
       "      <td>NaN</td>\n",
       "      <td>United Kingdom</td>\n",
       "    </tr>\n",
       "    <tr>\n",
       "      <th>299990</th>\n",
       "      <td>A563187</td>\n",
       "      <td>B</td>\n",
       "      <td>Adjust bad debt</td>\n",
       "      <td>1</td>\n",
       "      <td>8/12/2011 14:52</td>\n",
       "      <td>-11062.06</td>\n",
       "      <td>NaN</td>\n",
       "      <td>United Kingdom</td>\n",
       "    </tr>\n",
       "  </tbody>\n",
       "</table>\n",
       "</div>"
      ]
     },
     "execution_count": 46,
     "metadata": {},
     "output_type": "execute_result"
    }
   ],
   "execution_count": 46
  },
  {
   "metadata": {},
   "cell_type": "markdown",
   "source": "從輸出結果來看，`UnitPrice`為負數的觀察值都是壞帳調賬，不屬於實際商品交易數據，因此也在數據清理步驟中也將其刪除。",
   "id": "364c4ace47a3fa44"
  },
  {
   "metadata": {},
   "cell_type": "markdown",
   "source": "## 清洗數據",
   "id": "6dc328bcb5889080"
  },
  {
   "metadata": {},
   "cell_type": "markdown",
   "source": [
    "根據前面評估部分所得到的結論，我們需要進行的資料清理包括：\n",
    "- 把`InvoiceDate`變數的資料類型轉換為日期時間\n",
    "- 把`CustomerID`變數的資料型別轉換為字串\n",
    "- 把`Description`變數缺失的觀察值刪除\n",
    "- 把`Country`變數值`\"USA\"`替換為`\"United States\"`\n",
    "- 把`Country`變數值`\"UK\"`、`\"U.K.\"`替換為`\"United Kingdom\"`\n",
    "- 將`Quantity`變數值為負數的觀察值刪除\n",
    "- 把`UnitPrice`變數值為負數的觀察值刪除"
   ],
   "id": "794c0c27c1af5052"
  },
  {
   "metadata": {},
   "cell_type": "markdown",
   "source": "為了區分開經過清理的資料和原始的數據，我們建立新的變數`cleaned_data`，讓它為`original_data`複製出的副本。我們之後的清理步驟都會被運用在`cleaned_data`上。",
   "id": "cf34e51322022f08"
  },
  {
   "metadata": {
    "ExecuteTime": {
     "end_time": "2024-07-28T08:49:41.339306Z",
     "start_time": "2024-07-28T08:49:40.639234Z"
    }
   },
   "cell_type": "code",
   "source": [
    "cleaned_data = original_data.copy()\n",
    "cleaned_data.head()"
   ],
   "id": "8762b39a57f01c18",
   "outputs": [
    {
     "data": {
      "text/plain": [
       "  InvoiceNo StockCode                          Description  Quantity  \\\n",
       "0    536365    85123A   WHITE HANGING HEART T-LIGHT HOLDER         6   \n",
       "1    536365     71053                  WHITE METAL LANTERN         6   \n",
       "2    536365    84406B       CREAM CUPID HEARTS COAT HANGER         8   \n",
       "3    536365    84029G  KNITTED UNION FLAG HOT WATER BOTTLE         6   \n",
       "4    536365    84029E       RED WOOLLY HOTTIE WHITE HEART.         6   \n",
       "\n",
       "      InvoiceDate  UnitPrice  CustomerID         Country  \n",
       "0  12/1/2010 8:26       2.55     17850.0  United Kingdom  \n",
       "1  12/1/2010 8:26       3.39     17850.0  United Kingdom  \n",
       "2  12/1/2010 8:26       2.75     17850.0  United Kingdom  \n",
       "3  12/1/2010 8:26       3.39     17850.0  United Kingdom  \n",
       "4  12/1/2010 8:26       3.39     17850.0  United Kingdom  "
      ],
      "text/html": [
       "<div>\n",
       "<style scoped>\n",
       "    .dataframe tbody tr th:only-of-type {\n",
       "        vertical-align: middle;\n",
       "    }\n",
       "\n",
       "    .dataframe tbody tr th {\n",
       "        vertical-align: top;\n",
       "    }\n",
       "\n",
       "    .dataframe thead th {\n",
       "        text-align: right;\n",
       "    }\n",
       "</style>\n",
       "<table border=\"1\" class=\"dataframe\">\n",
       "  <thead>\n",
       "    <tr style=\"text-align: right;\">\n",
       "      <th></th>\n",
       "      <th>InvoiceNo</th>\n",
       "      <th>StockCode</th>\n",
       "      <th>Description</th>\n",
       "      <th>Quantity</th>\n",
       "      <th>InvoiceDate</th>\n",
       "      <th>UnitPrice</th>\n",
       "      <th>CustomerID</th>\n",
       "      <th>Country</th>\n",
       "    </tr>\n",
       "  </thead>\n",
       "  <tbody>\n",
       "    <tr>\n",
       "      <th>0</th>\n",
       "      <td>536365</td>\n",
       "      <td>85123A</td>\n",
       "      <td>WHITE HANGING HEART T-LIGHT HOLDER</td>\n",
       "      <td>6</td>\n",
       "      <td>12/1/2010 8:26</td>\n",
       "      <td>2.55</td>\n",
       "      <td>17850.0</td>\n",
       "      <td>United Kingdom</td>\n",
       "    </tr>\n",
       "    <tr>\n",
       "      <th>1</th>\n",
       "      <td>536365</td>\n",
       "      <td>71053</td>\n",
       "      <td>WHITE METAL LANTERN</td>\n",
       "      <td>6</td>\n",
       "      <td>12/1/2010 8:26</td>\n",
       "      <td>3.39</td>\n",
       "      <td>17850.0</td>\n",
       "      <td>United Kingdom</td>\n",
       "    </tr>\n",
       "    <tr>\n",
       "      <th>2</th>\n",
       "      <td>536365</td>\n",
       "      <td>84406B</td>\n",
       "      <td>CREAM CUPID HEARTS COAT HANGER</td>\n",
       "      <td>8</td>\n",
       "      <td>12/1/2010 8:26</td>\n",
       "      <td>2.75</td>\n",
       "      <td>17850.0</td>\n",
       "      <td>United Kingdom</td>\n",
       "    </tr>\n",
       "    <tr>\n",
       "      <th>3</th>\n",
       "      <td>536365</td>\n",
       "      <td>84029G</td>\n",
       "      <td>KNITTED UNION FLAG HOT WATER BOTTLE</td>\n",
       "      <td>6</td>\n",
       "      <td>12/1/2010 8:26</td>\n",
       "      <td>3.39</td>\n",
       "      <td>17850.0</td>\n",
       "      <td>United Kingdom</td>\n",
       "    </tr>\n",
       "    <tr>\n",
       "      <th>4</th>\n",
       "      <td>536365</td>\n",
       "      <td>84029E</td>\n",
       "      <td>RED WOOLLY HOTTIE WHITE HEART.</td>\n",
       "      <td>6</td>\n",
       "      <td>12/1/2010 8:26</td>\n",
       "      <td>3.39</td>\n",
       "      <td>17850.0</td>\n",
       "      <td>United Kingdom</td>\n",
       "    </tr>\n",
       "  </tbody>\n",
       "</table>\n",
       "</div>"
      ]
     },
     "execution_count": 47,
     "metadata": {},
     "output_type": "execute_result"
    }
   ],
   "execution_count": 47
  },
  {
   "metadata": {},
   "cell_type": "markdown",
   "source": "把`InvoiceDate`變數的資料型別轉換為日期時間型別：",
   "id": "78854bd736f3bf52"
  },
  {
   "metadata": {
    "ExecuteTime": {
     "end_time": "2024-07-28T08:49:41.557461Z",
     "start_time": "2024-07-28T08:49:41.341179Z"
    }
   },
   "cell_type": "code",
   "source": [
    "cleaned_data[\"InvoiceDate\"] = pd.to_datetime(cleaned_data[\"InvoiceDate\"])\n",
    "cleaned_data[\"InvoiceDate\"]"
   ],
   "id": "bcb4543f50858148",
   "outputs": [
    {
     "data": {
      "text/plain": [
       "0        2010-12-01 08:26:00\n",
       "1        2010-12-01 08:26:00\n",
       "2        2010-12-01 08:26:00\n",
       "3        2010-12-01 08:26:00\n",
       "4        2010-12-01 08:26:00\n",
       "                 ...        \n",
       "541904   2011-12-09 12:50:00\n",
       "541905   2011-12-09 12:50:00\n",
       "541906   2011-12-09 12:50:00\n",
       "541907   2011-12-09 12:50:00\n",
       "541908   2011-12-09 12:50:00\n",
       "Name: InvoiceDate, Length: 541909, dtype: datetime64[ns]"
      ]
     },
     "execution_count": 48,
     "metadata": {},
     "output_type": "execute_result"
    }
   ],
   "execution_count": 48
  },
  {
   "metadata": {},
   "cell_type": "markdown",
   "source": "把`CustomerID`變數的資料型別轉換為字串：",
   "id": "3e5021467b05b792"
  },
  {
   "metadata": {
    "ExecuteTime": {
     "end_time": "2024-07-28T08:49:41.811231Z",
     "start_time": "2024-07-28T08:49:41.558928Z"
    }
   },
   "cell_type": "code",
   "source": [
    "cleaned_data[\"CustomerID\"] = cleaned_data[\"CustomerID\"].astype(str)\n",
    "cleaned_data[\"CustomerID\"]"
   ],
   "id": "a239c672cfc8ee95",
   "outputs": [
    {
     "data": {
      "text/plain": [
       "0         17850.0\n",
       "1         17850.0\n",
       "2         17850.0\n",
       "3         17850.0\n",
       "4         17850.0\n",
       "           ...   \n",
       "541904    12680.0\n",
       "541905    12680.0\n",
       "541906    12680.0\n",
       "541907    12680.0\n",
       "541908    12680.0\n",
       "Name: CustomerID, Length: 541909, dtype: object"
      ]
     },
     "execution_count": 49,
     "metadata": {},
     "output_type": "execute_result"
    }
   ],
   "execution_count": 49
  },
  {
   "metadata": {},
   "cell_type": "markdown",
   "source": "把`CustomerID`變數值結尾的`\".0\"`刪除：",
   "id": "e43004bd050ec371"
  },
  {
   "metadata": {
    "ExecuteTime": {
     "end_time": "2024-07-28T08:49:41.935856Z",
     "start_time": "2024-07-28T08:49:41.817838Z"
    }
   },
   "cell_type": "code",
   "source": [
    "cleaned_data[\"CustomerID\"] = cleaned_data[\"CustomerID\"].str.slice(0, -2)\n",
    "cleaned_data[\"CustomerID\"]"
   ],
   "id": "55ea01b929bab802",
   "outputs": [
    {
     "data": {
      "text/plain": [
       "0         17850\n",
       "1         17850\n",
       "2         17850\n",
       "3         17850\n",
       "4         17850\n",
       "          ...  \n",
       "541904    12680\n",
       "541905    12680\n",
       "541906    12680\n",
       "541907    12680\n",
       "541908    12680\n",
       "Name: CustomerID, Length: 541909, dtype: object"
      ]
     },
     "execution_count": 50,
     "metadata": {},
     "output_type": "execute_result"
    }
   ],
   "execution_count": 50
  },
  {
   "metadata": {},
   "cell_type": "markdown",
   "source": "把`Description`變數缺少的觀察值刪除，並查看刪除後該列空缺值個數和：",
   "id": "74a5f3ec4a457284"
  },
  {
   "metadata": {
    "ExecuteTime": {
     "end_time": "2024-07-28T08:49:42.335894Z",
     "start_time": "2024-07-28T08:49:41.939098Z"
    }
   },
   "cell_type": "code",
   "source": [
    "cleaned_data.dropna(subset=[\"Description\"], inplace=True)\n",
    "cleaned_data[\"Description\"].isnull().sum()"
   ],
   "id": "e4906c2106921ff6",
   "outputs": [
    {
     "data": {
      "text/plain": [
       "0"
      ]
     },
     "execution_count": 51,
     "metadata": {},
     "output_type": "execute_result"
    }
   ],
   "execution_count": 51
  },
  {
   "metadata": {},
   "cell_type": "markdown",
   "source": "把`Country`變數值`\"USA\"`替換為`\"United States\"`，並檢查替換後`\"USA\"`變數值個數：",
   "id": "d068865ebe695239"
  },
  {
   "metadata": {
    "ExecuteTime": {
     "end_time": "2024-07-28T08:49:42.548199Z",
     "start_time": "2024-07-28T08:49:42.345013Z"
    }
   },
   "cell_type": "code",
   "source": [
    "cleaned_data[\"Country\"] = cleaned_data[\"Country\"].replace({\"USA\": \"United States\"})\n",
    "len(cleaned_data[cleaned_data[\"Country\"] == \"USA\"])"
   ],
   "id": "12638114e7ddcac9",
   "outputs": [
    {
     "data": {
      "text/plain": [
       "0"
      ]
     },
     "execution_count": 52,
     "metadata": {},
     "output_type": "execute_result"
    }
   ],
   "execution_count": 52
  },
  {
   "metadata": {},
   "cell_type": "markdown",
   "source": "把`Country`變數值`\"UK\"`、`\"U.K.\"`替換為`\"United Kingdom\"`，並檢查替換後`\"UK\"`和`\"U.K.\"`變數值個數：",
   "id": "1194f623204cdcb6"
  },
  {
   "metadata": {
    "ExecuteTime": {
     "end_time": "2024-07-28T08:49:42.806891Z",
     "start_time": "2024-07-28T08:49:42.551265Z"
    }
   },
   "cell_type": "code",
   "source": [
    "cleaned_data[\"Country\"] = cleaned_data[\"Country\"].replace({\"UK\": \"United Kingdom\", \"U.K.\": \"United Kingdom\"})\n",
    "print(len(cleaned_data[cleaned_data[\"Country\"] == \"UK\"]))\n",
    "print(len(cleaned_data[cleaned_data[\"Country\"] == \"U.K.\"]))"
   ],
   "id": "716f667999b97075",
   "outputs": [
    {
     "name": "stdout",
     "output_type": "stream",
     "text": [
      "0\n",
      "0\n"
     ]
    }
   ],
   "execution_count": 53
  },
  {
   "metadata": {},
   "cell_type": "markdown",
   "source": "將`Quantity`變數值為負數的觀察值刪除，並檢查替換後`Quantity`變數值為負數的個數：",
   "id": "457a0e6cb00d9b9b"
  },
  {
   "metadata": {
    "ExecuteTime": {
     "end_time": "2024-07-28T08:49:43.052658Z",
     "start_time": "2024-07-28T08:49:42.812278Z"
    }
   },
   "cell_type": "code",
   "source": [
    "cleaned_data = cleaned_data[cleaned_data[\"Quantity\"] >= 0]\n",
    "len(cleaned_data[cleaned_data[\"Quantity\"] < 0])"
   ],
   "id": "ec16180d4b5a519f",
   "outputs": [
    {
     "data": {
      "text/plain": [
       "0"
      ]
     },
     "execution_count": 54,
     "metadata": {},
     "output_type": "execute_result"
    }
   ],
   "execution_count": 54
  },
  {
   "metadata": {},
   "cell_type": "markdown",
   "source": "將`UnitPrice`變數值為負數的觀察值刪除，並檢查替換後`UnitPrice`變數值為負數的個數：",
   "id": "68b459def0f821e3"
  },
  {
   "metadata": {
    "ExecuteTime": {
     "end_time": "2024-07-28T08:49:43.136749Z",
     "start_time": "2024-07-28T08:49:43.054579Z"
    }
   },
   "cell_type": "code",
   "source": [
    "cleaned_data = cleaned_data[cleaned_data[\"UnitPrice\"] >= 0]\n",
    "len(cleaned_data[cleaned_data[\"UnitPrice\"] < 0])"
   ],
   "id": "7901c91905b2e12c",
   "outputs": [
    {
     "data": {
      "text/plain": [
       "0"
      ]
     },
     "execution_count": 55,
     "metadata": {},
     "output_type": "execute_result"
    }
   ],
   "execution_count": 55
  },
  {
   "metadata": {},
   "cell_type": "markdown",
   "source": "## 保存清洗後的資料",
   "id": "205824902c83c2b6"
  },
  {
   "metadata": {},
   "cell_type": "markdown",
   "source": "完成資料清理後，把乾淨整齊的資料寫回資料庫，表名稱為`e_commerce_cleaned`。",
   "id": "5225f62a2c870d45"
  },
  {
   "metadata": {
    "ExecuteTime": {
     "end_time": "2024-07-28T08:49:59.536276Z",
     "start_time": "2024-07-28T08:49:43.137868Z"
    }
   },
   "cell_type": "code",
   "source": "dataframe_and_postgres.dataframe_to_postgres(\"e_commerce_cleaned\", cleaned_data)",
   "id": "c867d60b24e74ce",
   "outputs": [],
   "execution_count": 56
  },
  {
   "metadata": {
    "ExecuteTime": {
     "end_time": "2024-07-28T08:49:59.539503Z",
     "start_time": "2024-07-28T08:49:59.537734Z"
    }
   },
   "cell_type": "code",
   "source": "",
   "id": "fe98e332e958b095",
   "outputs": [],
   "execution_count": 56
  }
 ],
 "metadata": {
  "kernelspec": {
   "display_name": "Python 3",
   "language": "python",
   "name": "python3"
  },
  "language_info": {
   "codemirror_mode": {
    "name": "ipython",
    "version": 2
   },
   "file_extension": ".py",
   "mimetype": "text/x-python",
   "name": "python",
   "nbconvert_exporter": "python",
   "pygments_lexer": "ipython2",
   "version": "2.7.6"
  }
 },
 "nbformat": 4,
 "nbformat_minor": 5
}
