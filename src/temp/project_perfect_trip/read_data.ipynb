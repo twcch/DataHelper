{
 "cells": [
  {
   "cell_type": "code",
   "id": "initial_id",
   "metadata": {
    "collapsed": true,
    "ExecuteTime": {
     "end_time": "2024-07-28T13:45:18.700080Z",
     "start_time": "2024-07-28T13:45:18.685457Z"
    }
   },
   "source": [
    "from src.util.io.io_util import IOUtil\n",
    "from src.util.path.local_path import LocalPath\n",
    "from src.util.mysql.dataframe_and_mysql import DataframeAndMysql"
   ],
   "outputs": [],
   "execution_count": 37
  },
  {
   "metadata": {
    "ExecuteTime": {
     "end_time": "2024-07-28T13:45:18.706702Z",
     "start_time": "2024-07-28T13:45:18.702070Z"
    }
   },
   "cell_type": "code",
   "source": [
    "local_path = LocalPath()\n",
    "file_path = local_path.get_key_folder() + \"/prefect_trip_key.txt\"\n",
    "\n",
    "io_util = IOUtil()\n",
    "database_info = io_util.read_key_file_data(file_path)"
   ],
   "id": "f2a3e4a6eac6443",
   "outputs": [],
   "execution_count": 38
  },
  {
   "metadata": {
    "ExecuteTime": {
     "end_time": "2024-07-28T13:45:18.715357Z",
     "start_time": "2024-07-28T13:45:18.707445Z"
    }
   },
   "cell_type": "code",
   "source": [
    "dataframe_and_mysql = DataframeAndMysql(database_name=\"perfect_trip_db\", \n",
    "                                        username=database_info[\"username\"], \n",
    "                                        password=database_info[\"password\"], \n",
    "                                        hostname=database_info[\"hostname\"], \n",
    "                                        port=database_info[\"port\"])"
   ],
   "id": "3034a0a9879e9cba",
   "outputs": [],
   "execution_count": 39
  },
  {
   "metadata": {
    "ExecuteTime": {
     "end_time": "2024-07-28T13:45:18.969468Z",
     "start_time": "2024-07-28T13:45:18.716686Z"
    }
   },
   "cell_type": "code",
   "source": [
    "data = dataframe_and_mysql.dataframe_from_mysql(\"user_master\")\n",
    "data"
   ],
   "id": "79b71281b19abce6",
   "outputs": [
    {
     "data": {
      "text/plain": [
       "   user_id username                          password first_name last_name  \\\n",
       "0        2     test  e10adc3949ba59abbe56e057f20f883e       None      None   \n",
       "1        3    test1  e10adc3949ba59abbe56e057f20f883e       None      None   \n",
       "\n",
       "  nickname tax_id gender user_group phone_number country  \\\n",
       "0     None   None   None       None         None    None   \n",
       "1     None   None   None       None         None    None   \n",
       "\n",
       "                                              avatar action  change_id  \\\n",
       "0  b'\\xff\\xd8\\xff\\xe0\\x00\\x10JFIF\\x00\\x01\\x01\\x00...   None          0   \n",
       "1                                               None   None          0   \n",
       "\n",
       "         created_date  last_modified_date  \n",
       "0 2024-07-28 11:58:22 2024-07-28 11:58:22  \n",
       "1 2024-07-28 12:00:42 2024-07-28 12:00:42  "
      ],
      "text/html": [
       "<div>\n",
       "<style scoped>\n",
       "    .dataframe tbody tr th:only-of-type {\n",
       "        vertical-align: middle;\n",
       "    }\n",
       "\n",
       "    .dataframe tbody tr th {\n",
       "        vertical-align: top;\n",
       "    }\n",
       "\n",
       "    .dataframe thead th {\n",
       "        text-align: right;\n",
       "    }\n",
       "</style>\n",
       "<table border=\"1\" class=\"dataframe\">\n",
       "  <thead>\n",
       "    <tr style=\"text-align: right;\">\n",
       "      <th></th>\n",
       "      <th>user_id</th>\n",
       "      <th>username</th>\n",
       "      <th>password</th>\n",
       "      <th>first_name</th>\n",
       "      <th>last_name</th>\n",
       "      <th>nickname</th>\n",
       "      <th>tax_id</th>\n",
       "      <th>gender</th>\n",
       "      <th>user_group</th>\n",
       "      <th>phone_number</th>\n",
       "      <th>country</th>\n",
       "      <th>avatar</th>\n",
       "      <th>action</th>\n",
       "      <th>change_id</th>\n",
       "      <th>created_date</th>\n",
       "      <th>last_modified_date</th>\n",
       "    </tr>\n",
       "  </thead>\n",
       "  <tbody>\n",
       "    <tr>\n",
       "      <th>0</th>\n",
       "      <td>2</td>\n",
       "      <td>test</td>\n",
       "      <td>e10adc3949ba59abbe56e057f20f883e</td>\n",
       "      <td>None</td>\n",
       "      <td>None</td>\n",
       "      <td>None</td>\n",
       "      <td>None</td>\n",
       "      <td>None</td>\n",
       "      <td>None</td>\n",
       "      <td>None</td>\n",
       "      <td>None</td>\n",
       "      <td>b'\\xff\\xd8\\xff\\xe0\\x00\\x10JFIF\\x00\\x01\\x01\\x00...</td>\n",
       "      <td>None</td>\n",
       "      <td>0</td>\n",
       "      <td>2024-07-28 11:58:22</td>\n",
       "      <td>2024-07-28 11:58:22</td>\n",
       "    </tr>\n",
       "    <tr>\n",
       "      <th>1</th>\n",
       "      <td>3</td>\n",
       "      <td>test1</td>\n",
       "      <td>e10adc3949ba59abbe56e057f20f883e</td>\n",
       "      <td>None</td>\n",
       "      <td>None</td>\n",
       "      <td>None</td>\n",
       "      <td>None</td>\n",
       "      <td>None</td>\n",
       "      <td>None</td>\n",
       "      <td>None</td>\n",
       "      <td>None</td>\n",
       "      <td>None</td>\n",
       "      <td>None</td>\n",
       "      <td>0</td>\n",
       "      <td>2024-07-28 12:00:42</td>\n",
       "      <td>2024-07-28 12:00:42</td>\n",
       "    </tr>\n",
       "  </tbody>\n",
       "</table>\n",
       "</div>"
      ]
     },
     "execution_count": 40,
     "metadata": {},
     "output_type": "execute_result"
    }
   ],
   "execution_count": 40
  },
  {
   "metadata": {
    "ExecuteTime": {
     "end_time": "2024-07-28T13:45:18.977185Z",
     "start_time": "2024-07-28T13:45:18.971036Z"
    }
   },
   "cell_type": "code",
   "source": [
    "binary_image = data[data[\"user_id\"] == 2][\"avatar\"]\n",
    "binary_image"
   ],
   "id": "26c16c7327faabdd",
   "outputs": [
    {
     "data": {
      "text/plain": [
       "0    b'\\xff\\xd8\\xff\\xe0\\x00\\x10JFIF\\x00\\x01\\x01\\x00...\n",
       "Name: avatar, dtype: object"
      ]
     },
     "execution_count": 41,
     "metadata": {},
     "output_type": "execute_result"
    }
   ],
   "execution_count": 41
  },
  {
   "metadata": {
    "ExecuteTime": {
     "end_time": "2024-07-28T13:48:49.308135Z",
     "start_time": "2024-07-28T13:48:48.867462Z"
    }
   },
   "cell_type": "code",
   "source": [
    "import pymysql\n",
    "from PIL import Image\n",
    "import io\n",
    "\n",
    "conn = pymysql.connect(host=database_info[\"hostname\"], \n",
    "                       user=database_info[\"username\"], \n",
    "                       password=database_info[\"password\"], \n",
    "                       db=\"perfect_trip_db\", \n",
    "                       charset=\"utf8mb4\", \n",
    "                       port=8995)\n",
    "\n",
    "try:\n",
    "    with conn.cursor() as cursor:\n",
    "        sql = \"SELECT avatar FROM user_master WHERE user_id = 2;\"\n",
    "        cursor.execute(sql)\n",
    "\n",
    "        result = cursor.fetchone()\n",
    "        if result:\n",
    "            image_blob = result[0]\n",
    "        else:\n",
    "            image_blob = None\n",
    "\n",
    "finally:\n",
    "    conn.close()\n",
    "\n",
    "if image_blob:\n",
    "    image_stream = io.BytesIO(image_blob)\n",
    "    image = Image.open(image_stream)\n",
    "    image.show()\n",
    "else:\n",
    "    print(\"No image found.\")"
   ],
   "id": "c1fa64af572e1de7",
   "outputs": [],
   "execution_count": 47
  },
  {
   "metadata": {},
   "cell_type": "code",
   "outputs": [],
   "execution_count": null,
   "source": "",
   "id": "60e87ea306483983"
  }
 ],
 "metadata": {
  "kernelspec": {
   "display_name": "Python 3",
   "language": "python",
   "name": "python3"
  },
  "language_info": {
   "codemirror_mode": {
    "name": "ipython",
    "version": 2
   },
   "file_extension": ".py",
   "mimetype": "text/x-python",
   "name": "python",
   "nbconvert_exporter": "python",
   "pygments_lexer": "ipython2",
   "version": "2.7.6"
  }
 },
 "nbformat": 4,
 "nbformat_minor": 5
}
