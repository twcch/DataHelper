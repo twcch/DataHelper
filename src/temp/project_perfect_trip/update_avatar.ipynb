{
 "cells": [
  {
   "cell_type": "code",
   "id": "initial_id",
   "metadata": {
    "collapsed": true,
    "ExecuteTime": {
     "end_time": "2024-07-28T13:30:30.679872Z",
     "start_time": "2024-07-28T13:30:30.544777Z"
    }
   },
   "source": [
    "import mysql.connector\n",
    "from mysql.connector import Error\n",
    "from src.util.io.io_util import IOUtil\n",
    "from src.util.path.local_path import LocalPath"
   ],
   "outputs": [],
   "execution_count": 11
  },
  {
   "metadata": {
    "ExecuteTime": {
     "end_time": "2024-07-28T13:30:31.141899Z",
     "start_time": "2024-07-28T13:30:31.129105Z"
    }
   },
   "cell_type": "code",
   "source": [
    "local_path = LocalPath()\n",
    "file_path = local_path.get_key_folder() + \"/prefect_trip_key.txt\"\n",
    "img_path = local_path.get_download_folder() + \"/avatar.jpg\"\n",
    "\n",
    "io_util = IOUtil()\n",
    "database_info = io_util.read_key_file_data(file_path)\n",
    "image_binary = io_util.get_image_binary(img_path)"
   ],
   "id": "208602683a211d89",
   "outputs": [],
   "execution_count": 12
  },
  {
   "metadata": {
    "ExecuteTime": {
     "end_time": "2024-07-28T13:30:32.175716Z",
     "start_time": "2024-07-28T13:30:32.170082Z"
    }
   },
   "cell_type": "code",
   "source": [
    "user_id = 2\n",
    "avatar = image_binary"
   ],
   "id": "e596cac7bd4c7c2c",
   "outputs": [],
   "execution_count": 13
  },
  {
   "metadata": {
    "ExecuteTime": {
     "end_time": "2024-07-28T13:31:19.183150Z",
     "start_time": "2024-07-28T13:31:17.959619Z"
    }
   },
   "cell_type": "code",
   "source": [
    "try:\n",
    "    # 連接到 MySQL 數據庫\n",
    "    connection = mysql.connector.connect(\n",
    "        host=database_info[\"hostname\"],\n",
    "        database=\"perfect_trip_db\",\n",
    "        user=database_info[\"username\"],\n",
    "        password=database_info[\"password\"],\n",
    "        port=8995\n",
    "    )\n",
    "\n",
    "    # 檢查是否已連接到數據庫\n",
    "    if connection.is_connected():\n",
    "        db_Info = connection.get_server_info()\n",
    "        print(\"已連接到 MySQL 服務器，版本：\", db_Info)\n",
    "\n",
    "        # 創建一個 cursor 對象並執行 UPDATE 語句\n",
    "        cursor = connection.cursor()\n",
    "        sql_update_query = \"\"\"UPDATE user_master\n",
    "                                  SET avatar = %s\n",
    "                                  WHERE user_id = %s\"\"\"\n",
    "        # 需要更新的數據\n",
    "        input_data = (avatar, user_id)\n",
    "        cursor.execute(sql_update_query, input_data)\n",
    "        connection.commit()  # 確認更改\n",
    "\n",
    "        print(\"記錄已更新成功\")\n",
    "\n",
    "except Error as e:\n",
    "    print(\"連接到 MySQL 數據庫時發生錯誤：\", e)\n",
    "\n",
    "finally:\n",
    "    # 確保連接被關閉以釋放資源\n",
    "    if connection.is_connected():\n",
    "        cursor.close()\n",
    "        connection.close()\n",
    "        print(\"MySQL 連接已關閉\")"
   ],
   "id": "44375373aff76f5a",
   "outputs": [
    {
     "name": "stdout",
     "output_type": "stream",
     "text": [
      "已連接到 MySQL 服務器，版本： 8.1.0\n",
      "記錄已更新成功\n",
      "MySQL 連接已關閉\n"
     ]
    }
   ],
   "execution_count": 15
  },
  {
   "metadata": {},
   "cell_type": "code",
   "outputs": [],
   "execution_count": null,
   "source": "",
   "id": "8df55e35cea228d"
  }
 ],
 "metadata": {
  "kernelspec": {
   "display_name": "Python 3",
   "language": "python",
   "name": "python3"
  },
  "language_info": {
   "codemirror_mode": {
    "name": "ipython",
    "version": 2
   },
   "file_extension": ".py",
   "mimetype": "text/x-python",
   "name": "python",
   "nbconvert_exporter": "python",
   "pygments_lexer": "ipython2",
   "version": "2.7.6"
  }
 },
 "nbformat": 4,
 "nbformat_minor": 5
}
